{
 "cells": [
  {
   "cell_type": "code",
   "execution_count": null,
   "id": "6741adc9",
   "metadata": {},
   "outputs": [],
   "source": [
    "pip install ultralytics"
   ]
  },
  {
   "cell_type": "code",
   "execution_count": 4,
   "id": "a49d3b83",
   "metadata": {},
   "outputs": [],
   "source": [
    "from ultralytics import YOLO\n",
    "import supervision as sv\n",
    "import cv2\n"
   ]
  },
  {
   "cell_type": "code",
   "execution_count": 5,
   "id": "ecdd1ea0",
   "metadata": {},
   "outputs": [
    {
     "name": "stdout",
     "output_type": "stream",
     "text": [
      "Downloading https://github.com/ultralytics/assets/releases/download/v8.3.0/yolov9c.pt to 'yolov9c.pt'...\n"
     ]
    },
    {
     "name": "stderr",
     "output_type": "stream",
     "text": [
      "100%|██████████| 49.4M/49.4M [00:37<00:00, 1.37MB/s]\n"
     ]
    }
   ],
   "source": [
    "model = YOLO(\"yolov9c\")\n",
    "\n",
    "# Define annotators\n",
    "ellipse_annotator = sv.EllipseAnnotator()\n",
    "triangle_annotator = sv.TriangleAnnotator()\n",
    "\n",
    "class DetectandAnnotate():\n",
    "    def __init__(self, input_file_path, output_file_path):\n",
    "        self.input_file_path = input_file_path\n",
    "        self.output_file_path = output_file_path\n",
    "        self.cv_height = cv2.CAP_PROP_FRAME_HEIGHT\n",
    "        self.cv_width = cv2.CAP_PROP_FRAME_WIDTH\n",
    "        self.cv_fps = cv2.CAP_PROP_FPS\n",
    "\n",
    "    def detect_and_annotate(self):\n",
    "        input = cv2.VideoCapture(self.input_file_path)\n",
    "        width, height, fps = (int(input.get(x)) for x in (self.cv_width, self.cv_height, self.cv_fps))\n",
    "        output = cv2.VideoWriter(self.output_file_path, cv2.VideoWriter.fourcc(*\"mp4v\"), fps, (width, height))\n",
    "\n",
    "        while input.isOpened():\n",
    "            options, frame = input.read()\n",
    "            if not options:\n",
    "                break\n",
    "\n",
    "            results = model.predict(frame)\n",
    "            detections = sv.Detections.from_ultralytics(results[0])\n",
    "\n",
    "            annotated_frame = ellipse_annotator.annotate(\n",
    "                scene=frame.copy(),\n",
    "                detections=detections\n",
    "            )\n",
    "\n",
    "            annotated_frame = triangle_annotator.annotate(\n",
    "                scene=annotated_frame,\n",
    "                detections=detections\n",
    "            )\n",
    "\n",
    "            output.write(annotated_frame)\n",
    "            cv2.imshow(\"annotated_frame\", annotated_frame)\n",
    "\n",
    "            if cv2.waitKey(1) & 0xFF == ord(\"q\"):\n",
    "                break\n",
    "    \n",
    "        input.release()\n",
    "        output.release()\n",
    "        cv2.destroyAllWindows()\n",
    "        "
   ]
  },
  {
   "cell_type": "code",
   "execution_count": 7,
   "id": "408be69f",
   "metadata": {},
   "outputs": [],
   "source": [
    "if __name__ == \"__main__\":\n",
    "    input_path = \"input_videos/videoplayback.mp4\"                # path to your input video\n",
    "    output_path = \"output_videos/annotated_output.mp4\"            # path to save annotated video\n",
    "\n",
    "    detector = DetectandAnnotate(input_path, output_path)\n",
    "    detector.detect_and_annotate()"
   ]
  }
 ],
 "metadata": {
  "kernelspec": {
   "display_name": "su_env",
   "language": "python",
   "name": "python3"
  },
  "language_info": {
   "codemirror_mode": {
    "name": "ipython",
    "version": 3
   },
   "file_extension": ".py",
   "mimetype": "text/x-python",
   "name": "python",
   "nbconvert_exporter": "python",
   "pygments_lexer": "ipython3",
   "version": "3.13.3"
  }
 },
 "nbformat": 4,
 "nbformat_minor": 5
}
